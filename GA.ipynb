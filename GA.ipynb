{
 "cells": [
  {
   "cell_type": "code",
   "execution_count": 1,
   "metadata": {
    "pycharm": {
     "is_executing": false
    }
   },
   "outputs": [],
   "source": [
    "%matplotlib inline"
   ]
  },
  {
   "cell_type": "code",
   "execution_count": 2,
   "metadata": {
    "pycharm": {}
   },
   "outputs": [],
   "source": [
    "import numpy as np\n",
    "import matplotlib.pyplot as plt\n",
    "from scipy.spatial import distance\n",
    "import random\n",
    "import math"
   ]
  },
  {
   "cell_type": "code",
   "execution_count": 3,
   "metadata": {
    "pycharm": {}
   },
   "outputs": [],
   "source": [
    "np.set_printoptions(suppress=True, linewidth = 250) # Suppress scientific notation"
   ]
  },
  {
   "cell_type": "code",
   "execution_count": null,
   "metadata": {
    "pycharm": {
     "is_executing": false
    }
   },
   "outputs": [],
   "source": [
    "my_data = np.loadtxt('data/cities.csv', skiprows = 1, delimiter = ',')\n",
    "nums = 100  # len(my_data) # number of rows from my_data to use\n",
    "mutprob = 80  # mutation probability\n",
    "swapprob = .05  # probability of an individual element of mutating\n",
    "my_data = my_data[0:nums,:] \n",
    "its = 500  # number of generations\n",
    "popsize = 100  # population size"
   ]
  },
  {
   "cell_type": "code",
   "execution_count": null,
   "metadata": {
    "pycharm": {}
   },
   "outputs": [],
   "source": [
    "def mutate_swap2(route, nums, swapprob):\n",
    "    \n",
    "    # in: a route composed of 2 vectors\n",
    "    # out: a new route composed of 2 vectors\n",
    "    \n",
    "    routenew = np.copy(route[:,0])\n",
    "    mutelem = np.random.choice([0,1], size = nums, p = [1-swapprob, swapprob])  # array containing elems to mutate\n",
    "    idx1 = np.where(mutelem == 1)  # indeces of 1's\n",
    "    b = routenew[idx1]  # numbers at indices -> b\n",
    "    np.random.shuffle(b)  # shuffle b\n",
    "    routenew[idx1] = b  # set numbers in route ad indeces equal to b\n",
    "    \n",
    "    # Make route thing to return\n",
    "    route2 = routenew[1:]\n",
    "    route2 = np.append(route2, routenew[0])\n",
    "\n",
    "    return(routenew.astype(int), route2.astype(int)) \n",
    "    "
   ]
  },
  {
   "cell_type": "code",
   "execution_count": null,
   "metadata": {
    "pycharm": {}
   },
   "outputs": [],
   "source": [
    "def crossover(parent1, parent2):\n",
    "    \n",
    "    # in: 2 parents\n",
    "    # out: 2 offspring\n",
    "    \n",
    "    cutoff = random.randint(0,nums)  # random cutoff point\n",
    "    \n",
    "    parents1 = parent1[:,0]\n",
    "    parents2 = parent2[:,0]\n",
    "    \n",
    "    offspring1 = np.full(len(parents1), -1).astype(int)  # create empty array\n",
    "    offspring2 = np.full(len(parents2), -1).astype(int)  # create empty array\n",
    "       \n",
    "    offspring1[0:cutoff] = parents1[0:cutoff]  # stick parent 1 into first part\n",
    "    offspring1[cutoff:] = parents2[~np.in1d(parents2,offspring1)]  # stick whatever legal numbers remain into the second\n",
    "                                                                   # part of offspring, but in the order that they appear\n",
    "                                                                   # in parent 2\n",
    "                \n",
    "    offspring2[0:cutoff] = parents2[0:cutoff]  # stick parent 2 into first part\n",
    "    offspring2[cutoff:] = parents1[~np.in1d(parents1,offspring2)]  # stick whatever legal numbers remain into the second\n",
    "                                                                   # part of offspring, but in the order that they appear\n",
    "                                                                   # in parent 1\n",
    "\n",
    "    offspring1b = offspring1[1:]\n",
    "    offspring1b = np.append(offspring1b, offspring1[0])\n",
    "    offspring2b = offspring2[1:]\n",
    "    offspring2b = np.append(offspring2b, offspring2[0])\n",
    "    offspring1c = np.column_stack((offspring1,offspring1b))\n",
    "    offspring2c = np.column_stack((offspring2,offspring2b))\n",
    "    \n",
    "    # print('cutoff = \\n', cutoff)\n",
    "    # print('parent1 = \\n', parent1)\n",
    "    # print('parent2 = \\n', parent2)\n",
    "    # print('offspring1c = \\n', offspring1c)\n",
    "    # print('offspring2c = \\n', offspring2c)\n",
    "    \n",
    "    return(offspring1c, offspring2c)\n",
    "    "
   ]
  },
  {
   "cell_type": "markdown",
   "metadata": {
    "pycharm": {}
   },
   "source": [
    "# Monte Carlo\n",
    "Randomly chooses a route, checks fitness, keeps it if it is better than previous route, randomly choose new route."
   ]
  },
  {
   "cell_type": "code",
   "execution_count": null,
   "metadata": {
    "pycharm": {}
   },
   "outputs": [],
   "source": [
    "old_distance = 1000000000000\n",
    "my_dist = 0\n",
    "distmat = np.zeros((its, 2))\n",
    "\n",
    "for j in range(0,its):\n",
    "    # makes 2 vectors a and b, where b is the same as a, other than that it is shifted along 1, so that\n",
    "    # b[0] = a[1], a[0] is added to the end of b. In this way, the vectors form paths along which santa\n",
    "    # can travel.\n",
    "    a = np.arange(nums)\n",
    "    np.random.shuffle(a)\n",
    "    b = a[1:]\n",
    "    b = np.append(b, a[0])\n",
    "    route = np.column_stack((a,b))\n",
    "    \n",
    "    # take diagonal sum of euclidian distmat\n",
    "    my_dist = np.trace(distance.cdist(my_data[a, 1:3], my_data[b, 1:3], 'euclidean')) \n",
    "    \n",
    "    # If new distance is better than old distance, keep new distance and route\n",
    "    # else keep old distance and route\n",
    "    if my_dist < old_distance:\n",
    "        old_distance = my_dist\n",
    "        best_route = route        \n",
    "    else:\n",
    "         pass\n",
    "\n",
    "    distmat[j,0] = j\n",
    "    distmat[j,1] = old_distance\n",
    "    my_dist = 0\n",
    "\n",
    "routedata = my_data[best_route[:,0]]    "
   ]
  },
  {
   "cell_type": "code",
   "execution_count": null,
   "metadata": {
    "pycharm": {}
   },
   "outputs": [],
   "source": [
    "x = routedata[:,1]\n",
    "y = routedata[:,2]\n",
    "fig = plt.figure()\n",
    "ax = fig.add_subplot(111)\n",
    "ax.plot(x, y, color = 'gray')\n",
    "ax.scatter(x,y)\n",
    "ax.set(title = \"MC: best route\", ylabel = 'Y', xlabel = ' X')\n",
    "plt.show()\n",
    "print(min(distmat[:,1]))"
   ]
  },
  {
   "cell_type": "code",
   "execution_count": null,
   "metadata": {
    "pycharm": {}
   },
   "outputs": [],
   "source": [
    "x = distmat[:,0]\n",
    "y = distmat[:,1]\n",
    "fig = plt.figure()\n",
    "ax = fig.add_subplot(111)\n",
    "ax.plot(x, y)\n",
    "ax.set(title =\"MC: distance over generations\", ylabel = 'distance', xlabel = ' generation')\n",
    "plt.show()\n",
    "print(min(distmat[:,1]))"
   ]
  },
  {
   "cell_type": "markdown",
   "metadata": {
    "pycharm": {}
   },
   "source": [
    "# Pure mutation"
   ]
  },
  {
   "cell_type": "markdown",
   "metadata": {
    "pycharm": {}
   },
   "source": [
    "# MUT + CO + elitist selection\n",
    "# "
   ]
  },
  {
   "cell_type": "code",
   "execution_count": null,
   "metadata": {
    "pycharm": {}
   },
   "outputs": [],
   "source": [
    "# make parent 1\n",
    "a = np.arange(nums)\n",
    "np.random.shuffle(a)\n",
    "b = a[1:]\n",
    "b = np.append(b, a[0])\n",
    "parent1 = np.column_stack((a,b))\n",
    "\n",
    "# make parent 2\n",
    "c = np.arange(nums)\n",
    "np.random.shuffle(c)\n",
    "d = c[1:]\n",
    "d = np.append(d, c[0])\n",
    "parent2 = np.column_stack((c,d))\n",
    "\n",
    "# make empty arrays\n",
    "offspring = np.zeros((nums,popsize))\n",
    "optdistmat = np.zeros((its,2))\n",
    "\n",
    "\n",
    "for i in range(0, its):\n",
    "    \n",
    "    distmat = np.zeros((4,1))  # set to zero, or distances from earlier generations will be added to new generation\n",
    "\n",
    "    offspring1, offspring2 = crossover(parent1, parent2)  # 2 parents produce 2 offspring using crossover\n",
    "\n",
    "    # Takes sum of diagonal of euclidian distance matrix = total distance\n",
    "    distmat[0] = np.trace(distance.cdist(my_data[parent1[:,0], 1:3], my_data[parent1[:,1], 1:3], 'euclidean'))\n",
    "    distmat[1] = np.trace(distance.cdist(my_data[parent2[:,0], 1:3], my_data[parent2[:,1], 1:3], 'euclidean'))\n",
    "    distmat[2] = np.trace(distance.cdist(my_data[offspring1[:,0], 1:3], my_data[offspring1[:,1], 1:3], 'euclidean'))\n",
    "    distmat[3] = np.trace(distance.cdist(my_data[offspring2[:,0], 1:3], my_data[offspring2[:,1], 1:3], 'euclidean'))\n",
    "    \n",
    "    best = np.argmin((distmat))  # Index of shortes distance out of 2 parents & 2 offspring\n",
    "   \n",
    "    # Dict to link indices to route\n",
    "    whatdict = {\n",
    "        0:parent1,\n",
    "        1:parent2,\n",
    "        2:offspring1,\n",
    "        3:offspring2\n",
    "    }\n",
    "    \n",
    "    parent = whatdict[best]  # best of all parents/offsprings offspring becomes new parent\n",
    "\n",
    "    distmat = np.zeros((popsize,1))  # Reset to zero\n",
    "    \n",
    "    # Next, make a boolean vector to indicate whether a child is to be mutated (1) or not (0).\n",
    "    choice = np.random.choice(np.arange(1,100),popsize)  # Vector of popsize numbers (1 - 100)\n",
    "    mutate = choice <= mutprob  # Boolean vector, 1 if choice <= mutprob, else 0\n",
    "    mutate = np.repeat(mutate, 2)  # Repeat so that the next for loop iterates across every element in mutate\n",
    "    \n",
    "    # Array containing popsize copies of parent\n",
    "    offspring = np.repeat(parent, popsize, axis = 0).reshape(nums, popsize*2)\n",
    "       \n",
    "    # For every unit in population (which is initially just a copy of the best of 2 parents and 2 offspring)\n",
    "    # See if you're going to mutate it\n",
    "    # If so, replace unit with mutated copy, else: leave it\n",
    "    for j in range(0, len(mutate),2):\n",
    "        if mutate[j] == True:\n",
    "            offspring[:, j], offspring[:, j+1] = mutate_swap2(parent, nums, swapprob)\n",
    "        else:\n",
    "             pass\n",
    "    \n",
    "    distmat = np.zeros((popsize,1))  # reset distance matrix to zero\n",
    "    \n",
    "    # Stick distances in array distmat\n",
    "    for k in range(0, popsize):\n",
    "        distmat[k] = np.trace(distance.cdist(my_data[offspring[:,k*2], 1:3], \n",
    "                                             my_data[offspring[:,k*2+1], 1:3], 'euclidean'))\n",
    "    \n",
    "    # Indices of best route\n",
    "    best = np.argmin((distmat))\n",
    "    bestindices = [best*2, best*2+1]  \n",
    "       \n",
    "    # Best offspring becomes new parent1    \n",
    "    parent1 = offspring[:, bestindices].astype(int)  \n",
    "    \n",
    "    # Second best offspring becomes parent 2\n",
    "    secondbest = np.argpartition(distmat, 2, axis = 0)[1,0]\n",
    "    secondbestindices = [secondbest*2, secondbest*2+1]\n",
    "    parent2 = offspring[:, secondbestindices].astype(int)\n",
    "    \n",
    "    # Stick data in array for plotting\n",
    "    optdistmat[i,0] = i\n",
    "    optdistmat[i,1] = distmat[best]\n",
    "    \n",
    "    # Reset distance to 0\n",
    "    my_dist = 0\n",
    "    \n",
    "routedata = my_data[parent1[:,0]]\n"
   ]
  },
  {
   "cell_type": "code",
   "execution_count": null,
   "metadata": {
    "pycharm": {}
   },
   "outputs": [],
   "source": [
    "x = routedata[:,1]\n",
    "y = routedata[:,2]\n",
    "fig = plt.figure()\n",
    "ax = fig.add_subplot(111)\n",
    "ax.plot(x, y, color = 'gray')\n",
    "ax.scatter(x,y, color = 'blue')\n",
    "ax.set(title = \"Mut + CO: best route\", ylabel = 'y', xlabel = ' x')\n",
    "plt.show()"
   ]
  },
  {
   "cell_type": "code",
   "execution_count": null,
   "metadata": {
    "pycharm": {}
   },
   "outputs": [],
   "source": [
    "x = optdistmat[:,0]\n",
    "y = optdistmat[:,1]\n",
    "fig = plt.figure()\n",
    "ax = fig.add_subplot(111)\n",
    "ax.plot(x, y)\n",
    "ax.set(title = \"Mut + CO: distance over generations\", ylabel = 'distance', xlabel = 'generation')\n",
    "plt.show()\n",
    "print(min(optdistmat[:,1]))"
   ]
  },
  {
   "cell_type": "markdown",
   "metadata": {
    "pycharm": {}
   },
   "source": [
    "# Performance tests"
   ]
  },
  {
   "cell_type": "code",
   "execution_count": null,
   "metadata": {
    "pycharm": {}
   },
   "outputs": [],
   "source": [
    "runs = 20"
   ]
  },
  {
   "cell_type": "markdown",
   "metadata": {
    "pycharm": {}
   },
   "source": [
    "## Monte Carlo"
   ]
  },
  {
   "cell_type": "code",
   "execution_count": null,
   "metadata": {
    "pycharm": {}
   },
   "outputs": [],
   "source": [
    "def main_MC():\n",
    "    old_distance = 1000000000000\n",
    "    my_dist = 0\n",
    "    distmat = np.zeros((its, 2))\n",
    "\n",
    "    for j in range(0,its):\n",
    "        # makes 2 vectors a and b, where b is the same as a, other than that it is shifted along 1, so that\n",
    "        # b[0] = a[1], a[0] is added to the end of b. In this way, the vectors form paths along which santa\n",
    "        # can travel.\n",
    "        a = np.arange(nums)\n",
    "        np.random.shuffle(a)\n",
    "        b = a[1:]\n",
    "        b = np.append(b, a[0])\n",
    "        route = np.column_stack((a,b))\n",
    "\n",
    "        # take diagonal sum of euclidian distmat\n",
    "        my_dist = np.trace(distance.cdist(my_data[a, 1:3], my_data[b, 1:3], 'euclidean')) \n",
    "\n",
    "        # If new distance is better than old distance, keep new distance and route\n",
    "        # else keep old distance and route\n",
    "        if my_dist < old_distance:\n",
    "            old_distance = my_dist\n",
    "            best_route = route        \n",
    "        else:\n",
    "             pass\n",
    "\n",
    "        distmat[j,0] = j\n",
    "        distmat[j,1] = old_distance\n",
    "        my_dist = 0\n",
    "\n",
    "    return(min(distmat[:,1]))"
   ]
  },
  {
   "cell_type": "markdown",
   "metadata": {
    "pycharm": {}
   },
   "source": [
    "## Mutation + Crossover"
   ]
  },
  {
   "cell_type": "code",
   "execution_count": null,
   "metadata": {
    "pycharm": {}
   },
   "outputs": [],
   "source": [
    "def main_mutco():\n",
    "\n",
    "    # make parent 1\n",
    "    a = np.arange(nums)\n",
    "    np.random.shuffle(a)\n",
    "    b = a[1:]\n",
    "    b = np.append(b, a[0])\n",
    "    parent1 = np.column_stack((a,b))\n",
    "\n",
    "    # make parent 2\n",
    "    c = np.arange(nums)\n",
    "    np.random.shuffle(c)\n",
    "    d = c[1:]\n",
    "    d = np.append(d, c[0])\n",
    "    parent2 = np.column_stack((c,d))\n",
    "\n",
    "    # make empty arrays\n",
    "    offspring = np.zeros((nums,popsize))\n",
    "    optdistmat = np.zeros((its,2))\n",
    "\n",
    "\n",
    "    for i in range(0, its):\n",
    "\n",
    "        distmat = np.zeros((4,1))  # set to zero, or distances from earlier generations will be added to new generation\n",
    "\n",
    "        offspring1, offspring2 = crossover(parent1, parent2)  # 2 parents produce 2 offspring using crossover\n",
    "\n",
    "        # Takes sum of diagonal of euclidian distance matrix = total distance\n",
    "        distmat[0] = np.trace(distance.cdist(my_data[parent1[:,0], 1:3], my_data[parent1[:,1], 1:3], 'euclidean'))\n",
    "        distmat[1] = np.trace(distance.cdist(my_data[parent2[:,0], 1:3], my_data[parent2[:,1], 1:3], 'euclidean'))\n",
    "        distmat[2] = np.trace(distance.cdist(my_data[offspring1[:,0], 1:3], my_data[offspring1[:,1], 1:3], 'euclidean'))\n",
    "        distmat[3] = np.trace(distance.cdist(my_data[offspring2[:,0], 1:3], my_data[offspring2[:,1], 1:3], 'euclidean'))\n",
    "\n",
    "        best = np.argmin((distmat))  # Index of shortes distance out of 2 parents & 2 offspring\n",
    "\n",
    "        # Dict to link indices to route\n",
    "        whatdict = {\n",
    "            0:parent1,\n",
    "            1:parent2,\n",
    "            2:offspring1,\n",
    "            3:offspring2\n",
    "        }\n",
    "\n",
    "        parent = whatdict[best]  # best of all parents/offsprings offspring becomes new parent\n",
    "\n",
    "        distmat = np.zeros((popsize,1))  # Reset to zero\n",
    "\n",
    "        # Next, make a boolean vector to indicate whether a child is to be mutated (1) or not (0).\n",
    "        choice = np.random.choice(np.arange(1,100),popsize)  # Vector of popsize numbers (1 - 100)\n",
    "        mutate = choice <= mutprob  # Boolean vector, 1 if choice <= mutprob, else 0\n",
    "        mutate = np.repeat(mutate, 2)  # Repeat so that the next for loop iterates across every element in mutate\n",
    "\n",
    "        # Array containing popsize copies of parent\n",
    "        offspring = np.repeat(parent, popsize, axis = 0).reshape(nums, popsize*2)\n",
    "\n",
    "        # For every unit in population (which is initially just a copy of the best of 2 parents and 2 offspring)\n",
    "        # See if you're going to mutate it\n",
    "        # If so, replace unit with mutated copy, else: leave it\n",
    "        for j in range(0, len(mutate),2):\n",
    "            if mutate[j] == True:\n",
    "                offspring[:, j], offspring[:, j+1] = mutate_swap2(parent, nums, swapprob)\n",
    "            else:\n",
    "                 pass\n",
    "\n",
    "        distmat = np.zeros((popsize,1))  # reset distance matrix to zero\n",
    "\n",
    "        # Stick distances in array distmat\n",
    "        for k in range(0, popsize):\n",
    "            distmat[k] = np.trace(distance.cdist(my_data[offspring[:,k*2], 1:3], \n",
    "                                                 my_data[offspring[:,k*2+1], 1:3], 'euclidean'))\n",
    "\n",
    "        # Indices of best route\n",
    "        best = np.argmin((distmat))\n",
    "        bestindices = [best*2, best*2+1]  \n",
    "\n",
    "        # Best offspring becomes new parent1    \n",
    "        parent1 = offspring[:, bestindices].astype(int)  \n",
    "\n",
    "        # Second best offspring becomes parent 2\n",
    "        secondbest = np.argpartition(distmat, 2, axis = 0)[1,0]\n",
    "        secondbestindices = [secondbest*2, secondbest*2+1]\n",
    "        parent2 = offspring[:, secondbestindices].astype(int)\n",
    "\n",
    "        # Stick data in array for plotting\n",
    "        optdistmat[i,0] = i\n",
    "        optdistmat[i,1] = distmat[best]\n",
    "\n",
    "        # Reset distance to 0\n",
    "        my_dist = 0\n",
    "        \n",
    "    return(min(optdistmat[:,1]))\n"
   ]
  },
  {
   "cell_type": "code",
   "execution_count": null,
   "metadata": {
    "pycharm": {}
   },
   "outputs": [],
   "source": [
    "newarray = np.full((runs, 2), -1)\n",
    "\n",
    "for i in range(0,runs):\n",
    "    print('run', i, 'of', runs)\n",
    "    newarray[i,0] = main_MC()\n",
    "    newarray[i,1] = main_mutco()\n",
    "    "
   ]
  },
  {
   "cell_type": "code",
   "execution_count": null,
   "metadata": {
    "pycharm": {}
   },
   "outputs": [],
   "source": [
    "MC = newarray[:,0]\n",
    "pure_mutation = newarray[:,1]\n",
    "mut_CO = newarray[:,2]\n",
    "\n",
    "# means of different methods\n",
    "MC_mean = np.mean(newarray[:,0])\n",
    "pure_mutation_mean = np.mean(newarray[:,1])\n",
    "mut_CO_mean = np.mean(newarray[:,2])\n",
    "\n",
    "# standard error of mean\n",
    "MC_se = np.std(newarray[:,0]/(math.sqrt(runs-1)))\n",
    "pure_mutation_se = np.std(newarray[:,1])/math.sqrt(runs-1)\n",
    "mut_CO_se = np.std(newarray[:,2])/math.sqrt(runs-1)\n",
    "\n",
    "# data\n",
    "height = [MC_mean, pure_mutation_mean, mut_CO_mean]\n",
    "bars = ('MC', 'Pure Mutation', 'Mutation + CO')\n",
    "y_pos = np.arange(len(bars))\n",
    " \n",
    "# Choose the height of the error bars (bars)\n",
    "yer1 = [MC_se, pure_mutation_se, mut_CO_se]\n",
    "\n",
    "fig = plt.figure(figsize = (15,15))\n",
    "# Create bars\n",
    "plt.bar(y_pos, height, yerr = yer1, capsize = 50)\n",
    " \n",
    "# Create names on the x-axis\n",
    "plt.xticks(y_pos, bars)\n",
    " \n",
    "# Show graphic\n",
    "plt.show()\n",
    "\n",
    "print(MC_mean, mut_CO_mean)\n",
    "print(MC_se, mut_CO_se)\n"
   ]
  },
  {
   "cell_type": "code",
   "execution_count": null,
   "metadata": {
    "pycharm": {}
   },
   "outputs": [],
   "source": []
  },
  {
   "cell_type": "markdown",
   "metadata": {
    "pycharm": {}
   },
   "source": [
    "Random 73858.1, se = 1272.418\n",
    "Best 74947, se = 1060.916\n",
    "\n",
    "\n",
    "\n",
    "\n",
    "\n"
   ]
  }
 ],
 "metadata": {
  "kernelspec": {
   "display_name": "Python 3",
   "language": "python",
   "name": "python3"
  },
  "language_info": {
   "codemirror_mode": {
    "name": "ipython",
    "version": 3
   },
   "file_extension": ".py",
   "mimetype": "text/x-python",
   "name": "python",
   "nbconvert_exporter": "python",
   "pygments_lexer": "ipython3",
   "version": "3.6.7"
  }
 },
 "nbformat": 4,
 "nbformat_minor": 1
}
